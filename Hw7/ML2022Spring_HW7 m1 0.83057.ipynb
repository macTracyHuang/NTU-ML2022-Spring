{
  "cells": [
    {
      "cell_type": "markdown",
      "metadata": {
        "id": "xvSGDbExff_I"
      },
      "source": [
        "# **Homework 7 - Bert (Question Answering)**\n",
        "\n",
        "If you have any questions, feel free to email us at mlta-2022-spring@googlegroups.com\n",
        "\n",
        "\n",
        "\n",
        "Slide:    [Link](https://docs.google.com/presentation/d/1H5ZONrb2LMOCixLY7D5_5-7LkIaXO6AGEaV2mRdTOMY/edit?usp=sharing)　Kaggle: [Link](https://www.kaggle.com/c/ml2022spring-hw7)　Data: [Link](https://drive.google.com/uc?id=1AVgZvy3VFeg0fX-6WQJMHPVrx3A-M1kb)\n",
        "\n",
        "\n"
      ]
    },
    {
      "cell_type": "markdown",
      "metadata": {
        "id": "WGOr_eS3wJJf"
      },
      "source": [
        "## Task description\n",
        "- Chinese Extractive Question Answering\n",
        "  - Input: Paragraph + Question\n",
        "  - Output: Answer\n",
        "\n",
        "- Objective: Learn how to fine tune a pretrained model on downstream task using transformers\n",
        "\n",
        "- Todo\n",
        "    - Fine tune a pretrained chinese BERT model\n",
        "    - Change hyperparameters (e.g. doc_stride)\n",
        "    - Apply linear learning rate decay\n",
        "    - Try other pretrained models\n",
        "    - Improve preprocessing\n",
        "    - Improve postprocessing\n",
        "- Training tips\n",
        "    - Automatic mixed precision\n",
        "    - Gradient accumulation\n",
        "    - Ensemble\n",
        "\n",
        "- Estimated training time (tesla t4 with automatic mixed precision enabled)\n",
        "    - Simple: 8mins\n",
        "    - Medium: 8mins\n",
        "    - Strong: 25mins\n",
        "    - Boss: 2.5hrs\n",
        "  "
      ]
    },
    {
      "cell_type": "markdown",
      "metadata": {
        "id": "TJ1fSAJE2oaC"
      },
      "source": [
        "## Download Dataset"
      ]
    },
    {
      "cell_type": "code",
      "execution_count": 1,
      "metadata": {
        "id": "YPrc4Eie9Yo5"
      },
      "outputs": [],
      "source": [
        "# import gdown\n",
        "# # Download link 1\n",
        "# !gdown --id '1AVgZvy3VFeg0fX-6WQJMHPVrx3A-M1kb' --output hw7_data.zip\n",
        "\n",
        "# # Download Link 2 (if the above link fails) \n",
        "# # !gdown --id '1qwjbRjq481lHsnTrrF4OjKQnxzgoLEFR' --output hw7_data.zip\n",
        "\n",
        "# # Download Link 3 (if the above link fails) \n",
        "# # !gdown --id '1QXuWjNRZH6DscSd6QcRER0cnxmpZvijn' --output hw7_data.zip\n",
        "\n",
        "# !unzip -o hw7_data.zip\n",
        "\n",
        "# # For this HW, K80 < P4 < T4 < P100 <= T4(fp16) < V100\n",
        "# !nvidia-smi"
      ]
    },
    {
      "cell_type": "markdown",
      "metadata": {
        "id": "TevOvhC03m0h"
      },
      "source": [
        "## Install transformers\n",
        "\n",
        "Documentation for the toolkit:　https://huggingface.co/transformers/"
      ]
    },
    {
      "cell_type": "code",
      "execution_count": 2,
      "metadata": {
        "id": "tbxWFX_jpDom"
      },
      "outputs": [],
      "source": [
        "# # You are allowed to change version of transformers or use other toolkits\n",
        "# !pip install transformers==4.18.0"
      ]
    },
    {
      "cell_type": "markdown",
      "metadata": {
        "id": "8dKM4yCh4LI_"
      },
      "source": [
        "## Import Packages"
      ]
    },
    {
      "cell_type": "code",
      "execution_count": 3,
      "metadata": {
        "id": "WOTHHtWJoahe"
      },
      "outputs": [],
      "source": [
        "import json\n",
        "import numpy as np\n",
        "import random\n",
        "import torch\n",
        "from torch.utils.data import DataLoader, Dataset \n",
        "from transformers import AdamW, BertForQuestionAnswering, BertTokenizerFast, get_linear_schedule_with_warmup\n",
        "import os\n",
        "\n",
        "from tqdm.auto import tqdm\n",
        "\n",
        "os.environ['CUDA_VISIBLE_DEVICES'] = \"0\"\n",
        "\n",
        "device = \"cuda:0\" if torch.cuda.is_available() else \"cpu\"\n",
        "\n",
        "# Fix random seed for reproducibility\n",
        "def same_seeds(seed):\n",
        "\t  torch.manual_seed(seed)\n",
        "\t  if torch.cuda.is_available():\n",
        "\t\t    torch.cuda.manual_seed(seed)\n",
        "\t\t    torch.cuda.manual_seed_all(seed)\n",
        "\t  np.random.seed(seed)\n",
        "\t  random.seed(seed)\n",
        "\t  torch.backends.cudnn.benchmark = False\n",
        "\t  torch.backends.cudnn.deterministic = True\n",
        "same_seeds(0)"
      ]
    },
    {
      "cell_type": "code",
      "execution_count": 4,
      "metadata": {
        "id": "7pBtSZP1SKQO"
      },
      "outputs": [],
      "source": [
        "# Change \"fp16_training\" to True to support automatic mixed precision training (fp16)\t\n",
        "fp16_training = True\n",
        "\n",
        "if fp16_training:\n",
        "    # !pip install accelerate==0.2.0\n",
        "    from accelerate import Accelerator\n",
        "    accelerator = Accelerator(fp16=True)\n",
        "    device = accelerator.device\n",
        "\n",
        "# Documentation for the toolkit:  https://huggingface.co/docs/accelerate/"
      ]
    },
    {
      "cell_type": "markdown",
      "metadata": {
        "id": "2YgXHuVLp_6j"
      },
      "source": [
        "## Load Model and Tokenizer\n",
        "\n",
        "\n",
        "\n",
        "\n",
        " "
      ]
    },
    {
      "cell_type": "code",
      "execution_count": 5,
      "metadata": {
        "id": "xyBCYGjAp3ym"
      },
      "outputs": [
        {
          "name": "stderr",
          "output_type": "stream",
          "text": [
            "Some weights of the model checkpoint at hfl/chinese-macbert-large were not used when initializing BertForQuestionAnswering: ['cls.predictions.decoder.bias', 'cls.predictions.transform.dense.bias', 'cls.seq_relationship.bias', 'cls.predictions.decoder.weight', 'cls.predictions.transform.LayerNorm.bias', 'cls.predictions.bias', 'cls.seq_relationship.weight', 'cls.predictions.transform.LayerNorm.weight', 'cls.predictions.transform.dense.weight']\n",
            "- This IS expected if you are initializing BertForQuestionAnswering from the checkpoint of a model trained on another task or with another architecture (e.g. initializing a BertForSequenceClassification model from a BertForPreTraining model).\n",
            "- This IS NOT expected if you are initializing BertForQuestionAnswering from the checkpoint of a model that you expect to be exactly identical (initializing a BertForSequenceClassification model from a BertForSequenceClassification model).\n",
            "Some weights of BertForQuestionAnswering were not initialized from the model checkpoint at hfl/chinese-macbert-large and are newly initialized: ['qa_outputs.weight', 'qa_outputs.bias']\n",
            "You should probably TRAIN this model on a down-stream task to be able to use it for predictions and inference.\n"
          ]
        }
      ],
      "source": [
        "# model = BertForQuestionAnswering.from_pretrained(\"bert-base-chinese\").to(device)\n",
        "# tokenizer = BertTokenizerFast.from_pretrained(\"bert-base-chinese\")\n",
        "pre_model = \"hfl/chinese-macbert-large\"\n",
        "tokenizer = BertTokenizerFast.from_pretrained(pre_model)\n",
        "model = BertForQuestionAnswering.from_pretrained(pre_model).to(device)\n",
        "\n",
        "# tokenizer = RobertaTokenizer.from_pretrained('hfl/chinese-roberta-wwm-ext')\n",
        "# model = RobertaModel.from_pretrained('hfl/chinese-roberta-wwm-ext')\n",
        "\n",
        "# You can safely ignore the warning message (it pops up because new prediction heads for QA are initialized randomly)"
      ]
    },
    {
      "cell_type": "markdown",
      "metadata": {
        "id": "3Td-GTmk5OW4"
      },
      "source": [
        "## Read Data\n",
        "\n",
        "- Training set: 31690 QA pairs\n",
        "- Dev set: 4131  QA pairs\n",
        "- Test set: 4957  QA pairs\n",
        "\n",
        "- {train/dev/test}_questions:\t\n",
        "  - List of dicts with the following keys:\n",
        "   - id (int)\n",
        "   - paragraph_id (int)\n",
        "   - question_text (string)\n",
        "   - answer_text (string)\n",
        "   - answer_start (int)\n",
        "   - answer_end (int)\n",
        "- {train/dev/test}_paragraphs: \n",
        "  - List of strings\n",
        "  - paragraph_ids in questions correspond to indexs in paragraphs\n",
        "  - A paragraph may be used by several questions "
      ]
    },
    {
      "cell_type": "code",
      "execution_count": 6,
      "metadata": {
        "id": "NvX7hlepogvu"
      },
      "outputs": [],
      "source": [
        "def read_data(file):\n",
        "    with open(file, 'r', encoding=\"utf-8\") as reader:\n",
        "        data = json.load(reader)\n",
        "    return data[\"questions\"], data[\"paragraphs\"]\n",
        "\n",
        "train_questions, train_paragraphs = read_data(\"hw7_train.json\")\n",
        "dev_questions, dev_paragraphs = read_data(\"hw7_dev.json\")\n",
        "test_questions, test_paragraphs = read_data(\"hw7_test.json\")"
      ]
    },
    {
      "cell_type": "markdown",
      "metadata": {
        "id": "Fm0rpTHq0e4N"
      },
      "source": [
        "## Tokenize Data"
      ]
    },
    {
      "cell_type": "code",
      "execution_count": 7,
      "metadata": {
        "id": "rTZ6B70Hoxie"
      },
      "outputs": [],
      "source": [
        "# Tokenize questions and paragraphs separately\n",
        "# 「add_special_tokens」 is set to False since special tokens will be added when tokenized questions and paragraphs are combined in datset __getitem__ \n",
        "\n",
        "train_questions_tokenized = tokenizer([train_question[\"question_text\"] for train_question in train_questions], add_special_tokens=False)\n",
        "dev_questions_tokenized = tokenizer([dev_question[\"question_text\"] for dev_question in dev_questions], add_special_tokens=False)\n",
        "test_questions_tokenized = tokenizer([test_question[\"question_text\"] for test_question in test_questions], add_special_tokens=False) \n",
        "\n",
        "train_paragraphs_tokenized = tokenizer(train_paragraphs, add_special_tokens=False)\n",
        "dev_paragraphs_tokenized = tokenizer(dev_paragraphs, add_special_tokens=False)\n",
        "test_paragraphs_tokenized = tokenizer(test_paragraphs, add_special_tokens=False)\n",
        "\n",
        "# You can safely ignore the warning message as tokenized sequences will be futher processed in datset __getitem__ before passing to model"
      ]
    },
    {
      "cell_type": "markdown",
      "metadata": {
        "id": "Ws8c8_4d5UCI"
      },
      "source": [
        "## Dataset and Dataloader"
      ]
    },
    {
      "cell_type": "code",
      "execution_count": 8,
      "metadata": {
        "id": "Xjooag-Swnuh"
      },
      "outputs": [],
      "source": [
        "class QA_Dataset(Dataset):\n",
        "    def __init__(self, split, questions, tokenized_questions, tokenized_paragraphs):\n",
        "        self.split = split\n",
        "        self.questions = questions\n",
        "        self.tokenized_questions = tokenized_questions\n",
        "        self.tokenized_paragraphs = tokenized_paragraphs\n",
        "        self.max_question_len = 40\n",
        "        self.max_paragraph_len = 466\n",
        "        \n",
        "        ##### TODO: Change value of doc_stride #####\n",
        "        self.doc_stride = self.max_paragraph_len // 2\n",
        "\n",
        "        # Input sequence length = [CLS] + question + [SEP] + paragraph + [SEP]\n",
        "        self.max_seq_len = 1 + self.max_question_len + 1 + self.max_paragraph_len + 1\n",
        "\n",
        "    def __len__(self):\n",
        "        return len(self.questions)\n",
        "\n",
        "    def __getitem__(self, idx):\n",
        "        question = self.questions[idx]\n",
        "        tokenized_question = self.tokenized_questions[idx]\n",
        "        tokenized_paragraph = self.tokenized_paragraphs[question[\"paragraph_id\"]]\n",
        "\n",
        "        ##### TODO: Preprocessing #####\n",
        "        # Hint: How to prevent model from learning something it should not learn\n",
        "        exceed = True if len(tokenized_paragraph) > self.max_paragraph_len else False\n",
        "\n",
        "        if self.split == \"train\":\n",
        "            # Convert answer's start/end positions in paragraph_text to start/end positions in tokenized_paragraph  \n",
        "            answer_start_token = tokenized_paragraph.char_to_token(question[\"answer_start\"])\n",
        "            answer_end_token = tokenized_paragraph.char_to_token(question[\"answer_end\"])\n",
        "\n",
        "            # A single window is obtained by slicing the portion of paragraph containing the answer\n",
        "            if exceed:\n",
        "                mid = (answer_start_token + answer_end_token) // 2\n",
        "                paragraph_start = max(0, min(mid - self.max_paragraph_len // 2, len(tokenized_paragraph) - self.max_paragraph_len))\n",
        "            else:\n",
        "                rand_start = random.randint(0, answer_start_token)\n",
        "                paragraph_start = rand_start\n",
        "            paragraph_end = paragraph_start + self.max_paragraph_len\n",
        "\n",
        "            # Slice question/paragraph and add special tokens (101: CLS, 102: SEP)\n",
        "            input_ids_question = [101] + tokenized_question.ids[:self.max_question_len] + [102] \n",
        "            input_ids_paragraph = tokenized_paragraph.ids[paragraph_start : paragraph_end] + [102]\t\t\n",
        "            \n",
        "            # Convert answer's start/end positions in tokenized_paragraph to start/end positions in the window\n",
        "            answer_start_token += len(input_ids_question) - paragraph_start\n",
        "            answer_end_token += len(input_ids_question) - paragraph_start\n",
        "            \n",
        "            # Pad sequence and obtain inputs to model \n",
        "            input_ids, token_type_ids, attention_mask = self.padding(input_ids_question, input_ids_paragraph)\n",
        "            return torch.tensor(input_ids), torch.tensor(token_type_ids), torch.tensor(attention_mask), answer_start_token, answer_end_token\n",
        "\n",
        "        # Validation/Testing\n",
        "        else:\n",
        "            input_ids_list, token_type_ids_list, attention_mask_list = [], [], []\n",
        "            \n",
        "            # Paragraph is split into several windows, each with start positions separated by step \"doc_stride\"\n",
        "            for i in range(0, len(tokenized_paragraph), self.doc_stride):\n",
        "                \n",
        "                # Slice question/paragraph and add special tokens (101: CLS, 102: SEP)\n",
        "                input_ids_question = [101] + tokenized_question.ids[:self.max_question_len] + [102]\n",
        "                input_ids_paragraph = tokenized_paragraph.ids[i : i + self.max_paragraph_len] + [102]\n",
        "                \n",
        "                # Pad sequence and obtain inputs to model\n",
        "                input_ids, token_type_ids, attention_mask = self.padding(input_ids_question, input_ids_paragraph)\n",
        "                \n",
        "                input_ids_list.append(input_ids)\n",
        "                token_type_ids_list.append(token_type_ids)\n",
        "                attention_mask_list.append(attention_mask)\n",
        "            \n",
        "            return torch.tensor(input_ids_list), torch.tensor(token_type_ids_list), torch.tensor(attention_mask_list)\n",
        "\n",
        "    def padding(self, input_ids_question, input_ids_paragraph):\n",
        "        # Pad zeros if sequence length is shorter than max_seq_len\n",
        "        padding_len = self.max_seq_len - len(input_ids_question) - len(input_ids_paragraph)\n",
        "        # Indices of input sequence tokens in the vocabulary\n",
        "        input_ids = input_ids_question + input_ids_paragraph + [0] * padding_len\n",
        "        # Segment token indices to indicate first and second portions of the inputs. Indices are selected in [0, 1]\n",
        "        token_type_ids = [0] * len(input_ids_question) + [1] * len(input_ids_paragraph) + [0] * padding_len\n",
        "        # Mask to avoid performing attention on padding token indices. Mask values selected in [0, 1]\n",
        "        attention_mask = [1] * (len(input_ids_question) + len(input_ids_paragraph)) + [0] * padding_len\n",
        "        \n",
        "        return input_ids, token_type_ids, attention_mask\n",
        "\n",
        "train_set = QA_Dataset(\"train\", train_questions, train_questions_tokenized, train_paragraphs_tokenized)\n",
        "dev_set = QA_Dataset(\"dev\", dev_questions, dev_questions_tokenized, dev_paragraphs_tokenized)\n",
        "test_set = QA_Dataset(\"test\", test_questions, test_questions_tokenized, test_paragraphs_tokenized)\n",
        "\n",
        "train_batch_size = 2\n",
        "\n",
        "# Note: Do NOT change batch size of dev_loader / test_loader !\n",
        "# Although batch size=1, it is actually a batch consisting of several windows from the same QA pair\n",
        "train_loader = DataLoader(train_set, batch_size=train_batch_size, shuffle=True, pin_memory=True)\n",
        "dev_loader = DataLoader(dev_set, batch_size=1, shuffle=False, pin_memory=True)\n",
        "test_loader = DataLoader(test_set, batch_size=1, shuffle=False, pin_memory=True)"
      ]
    },
    {
      "cell_type": "markdown",
      "metadata": {
        "id": "5_H1kqhR8CdM"
      },
      "source": [
        "## Function for Evaluation"
      ]
    },
    {
      "cell_type": "code",
      "execution_count": 9,
      "metadata": {
        "id": "SqeA3PLPxOHu"
      },
      "outputs": [],
      "source": [
        "# def evaluate(data, output):\n",
        "#     ##### TODO: Postprocessing #####\n",
        "#     # There is a bug and room for improvement in postprocessing \n",
        "#     # Hint: Open your prediction file to see what is wrong \n",
        "    \n",
        "#     answer = ''\n",
        "#     max_prob = float('-inf')\n",
        "#     num_of_windows = data[0].shape[1]\n",
        "    \n",
        "#     for k in range(num_of_windows):\n",
        "#         # Obtain answer by choosing the most probable start position / end position\n",
        "#         start_prob, start_index = torch.max(output.start_logits[k], dim=0)\n",
        "#         end_prob, end_index = torch.max(output.end_logits[k], dim=0)\n",
        "        \n",
        "#         # Probability of answer is calculated as sum of start_prob and end_prob\n",
        "#         prob = start_prob + end_prob\n",
        "#         if start_index > end_index:\n",
        "#            prob = 0\n",
        "#         # Replace answer if calculated probability is larger than previous windows\n",
        "#         if prob > max_prob:\n",
        "#             max_prob = prob\n",
        "#             # Convert tokens to chars (e.g. [1920, 7032] --> \"大 金\")\n",
        "#             answer = tokenizer.decode(data[0][0][k][start_index : end_index + 1])\n",
        "    \n",
        "#     # Remove spaces in answer (e.g. \"大 金\" --> \"大金\")\n",
        "#     return answer.replace(' ','')\n",
        "\n",
        "max_answer_length = 40\n",
        "\n",
        "def evaluate(data, output):\n",
        "    ##### TODO: Postprocessing #####\n",
        "    # There is a bug and room for improvement in postprocessing \n",
        "    # Hint: Open your prediction file to see what is wrong \n",
        "    \n",
        "    answer = ''\n",
        "    max_prob = float('-inf')\n",
        "    num_of_windows = data[0].shape[1]\n",
        "    n_best = 60\n",
        "\n",
        "    for k in range(num_of_windows):\n",
        "        start_indexes = np.argsort(output.start_logits[k].cpu().numpy())[-1 : -n_best - 1 : -1].tolist()\n",
        "        end_indexes = np.argsort(output.end_logits[k].cpu().numpy())[-1 : -n_best - 1 : -1].tolist()\n",
        "        \n",
        "        for start_index in start_indexes:\n",
        "            for end_index in end_indexes:\n",
        "                if start_index > end_index or end_index - start_index + 1 > max_answer_length:\n",
        "                    continue\n",
        "\n",
        "                start_prob, end_prob = output.start_logits[k][start_index], output.end_logits[k][end_index]\n",
        "                \n",
        "                prob = start_prob + end_prob\n",
        "                if prob > max_prob:\n",
        "                    max_prob = prob\n",
        "                    # Convert tokens to chars (e.g. [1920, 7032] --> \"大 金\")\n",
        "                    answer = tokenizer.decode(data[0][0][k][start_index : end_index + 1])\n",
        "    return answer.replace(' ','')"
      ]
    },
    {
      "cell_type": "markdown",
      "metadata": {
        "id": "rzHQit6eMnKG"
      },
      "source": [
        "## Training"
      ]
    },
    {
      "cell_type": "code",
      "execution_count": 10,
      "metadata": {
        "id": "3Q-B6ka7xoCM"
      },
      "outputs": [],
      "source": [
        "# num_epoch = 4\n",
        "# validation = True\n",
        "# logging_step = 100\n",
        "# learning_rate = 3e-5\n",
        "# optimizer = AdamW(model.parameters(), lr=learning_rate)\n",
        "\n",
        "# # batch accumulation parameter\n",
        "# accum_iter = 32 \n",
        "\n",
        "# #set up scheduler\n",
        "# len_dataset = len(train_set)\n",
        "# print(f\"length of train_set: {len_dataset}\")\n",
        "# total_steps = (len_dataset // accum_iter) * num_epoch\n",
        "# warm_up_ratio = 0\n",
        "# scheduler = get_linear_schedule_with_warmup(optimizer, num_warmup_steps = warm_up_ratio * total_steps, num_training_steps = total_steps)\n",
        "\n",
        "\n",
        "\n",
        "# if fp16_training:\n",
        "#     model, optimizer, train_loader = accelerator.prepare(model, optimizer, train_loader) \n",
        "\n",
        "# model.train()\n",
        "\n",
        "# print(\"Start Training ...\")\n",
        "\n",
        "# best_acc = 0\n",
        "\n",
        "# for epoch in range(num_epoch):\n",
        "#     step = 1\n",
        "#     train_loss = train_acc = 0\n",
        "    \n",
        "#     for data in tqdm(train_loader):\t\n",
        "#         # Load all data into GPU\n",
        "#         data = [i.to(device) for i in data]\n",
        "        \n",
        "#         # Model inputs: input_ids, token_type_ids, attention_mask, start_positions, end_positions (Note: only \"input_ids\" is mandatory)\n",
        "#         # Model outputs: start_logits, end_logits, loss (return when start_positions/end_positions are provided)  \n",
        "#         output = model(input_ids=data[0], token_type_ids=data[1], attention_mask=data[2], start_positions=data[3], end_positions=data[4])\n",
        "\n",
        "#         # Choose the most probable start position / end position\n",
        "#         start_index = torch.argmax(output.start_logits, dim=1)\n",
        "#         end_index = torch.argmax(output.end_logits, dim=1)\n",
        "        \n",
        "#         # Prediction is correct only if both start_index and end_index are correct\n",
        "#         train_acc += ((start_index == data[3]) & (end_index == data[4])).float().mean()\n",
        "\n",
        "#         # normalize loss to account for batch accumulation\n",
        "#         train_loss += output.loss / accum_iter \n",
        "        \n",
        "#         if fp16_training:\n",
        "#             accelerator.backward(output.loss)\n",
        "#         else:\n",
        "#             output.loss.backward()\n",
        "        \n",
        "#         # weights update\n",
        "#         if (step % accum_iter == 0) or (step == len(train_loader)):\n",
        "#             optimizer.step()\n",
        "#             scheduler.step()\n",
        "#             optimizer.zero_grad()\n",
        "            \n",
        "#         # optimizer.step()\n",
        "#         # optimizer.zero_grad()\n",
        "#         step += 1\n",
        "\n",
        "#         # # ##### TODO: Apply linear learning rate decay #####\n",
        "#         # scheduler.step()\n",
        "        \n",
        "#         # Print training loss and accuracy over past logging step\n",
        "#         if step % logging_step == 0:\n",
        "#             print(f\"Epoch {epoch + 1} | Step {step} | loss = {train_loss.item() / logging_step:.3f}, acc = {train_acc / logging_step:.3f}\")\n",
        "#             train_loss = train_acc = 0\n",
        "\n",
        "\n",
        "\n",
        "#     if validation:\n",
        "#         print(\"Evaluating Dev Set ...\")\n",
        "#         model.eval()\n",
        "#         with torch.no_grad():\n",
        "#             dev_acc = 0\n",
        "#             for i, data in enumerate(tqdm(dev_loader)):\n",
        "#                 output = model(input_ids=data[0].squeeze(dim=0).to(device), token_type_ids=data[1].squeeze(dim=0).to(device),\n",
        "#                        attention_mask=data[2].squeeze(dim=0).to(device))\n",
        "#                 # prediction is correct only if answer text exactly matches\n",
        "#                 dev_acc += evaluate(data, output) == dev_questions[i][\"answer_text\"]\n",
        "#             print(f\"Validation | Epoch {epoch + 1} | acc = {dev_acc / len(dev_loader):.3f}\")\n",
        "\n",
        "#             if dev_acc > best_acc:\n",
        "#                 best_acc = dev_acc\n",
        "#                 print(\"Saving Model ...\")\n",
        "#                 model_save_dir = \"saved_model_1\" \n",
        "#                 model.save_pretrained(model_save_dir)\n",
        "#         model.train()\n",
        "\n",
        "# # Save a model and its configuration file to the directory 「saved_model」 \n",
        "# # i.e. there are two files under the direcory 「saved_model」: 「pytorch_model.bin」 and 「config.json」\n",
        "# # Saved model can be re-loaded using 「model = BertForQuestionAnswering.from_pretrained(\"saved_model\")」\n",
        "\n",
        "# # print(\"Saving Model ...\")\n",
        "# # model_save_dir = \"saved_model\" \n",
        "# # model.save_pretrained(model_save_dir)"
      ]
    },
    {
      "cell_type": "code",
      "execution_count": 24,
      "metadata": {},
      "outputs": [],
      "source": [
        "max_answer_length = 20\n",
        "\n",
        "def ensemble(data, output1, output2, output5):\n",
        "    ##### TODO: Postprocessing #####\n",
        "    # There is a bug and room for improvement in postprocessing \n",
        "    # Hint: Open your prediction file to see what is wrong \n",
        "    \n",
        "    answer = ''\n",
        "    max_prob = float('-inf')\n",
        "    num_of_windows = data[0].shape[1]\n",
        "    n_best = 60\n",
        "\n",
        "    for k in range(num_of_windows):\n",
        "        output_start = output1.start_logits[k].cpu().numpy() + output2.start_logits[k].cpu().numpy() + output5.start_logits[k].cpu().numpy()\n",
        "        output_end = output1.end_logits[k].cpu().numpy() + output2.end_logits[k].cpu().numpy() + output5.end_logits[k].cpu().numpy()\n",
        "\n",
        "        start_indexes = np.argsort(output_start)[-1 : -n_best - 1 : -1].tolist()\n",
        "        end_indexes = np.argsort(output_end)[-1 : -n_best - 1 : -1].tolist()\n",
        "\n",
        "        # start_indexes2 = np.argsort(output2.start_logits[k].cpu().numpy())[-1 : -n_best - 1 : -1]\n",
        "        # end_indexes2 = np.argsort(output2.end_logits[k].cpu().numpy())[-1 : -n_best - 1 : -1]\n",
        "        \n",
        "        # start_indexes = (start_indexes1 + start_indexes2).tolist()\n",
        "        # end_indexes = (end_indexes1 + end_indexes2).tolist()\n",
        "\n",
        "\n",
        "        for i, start_index in enumerate(start_indexes):\n",
        "            for j, end_index in enumerate(end_indexes):\n",
        "                if start_index > end_index or end_index - start_index + 1 > max_answer_length:\n",
        "                    continue\n",
        "                \n",
        "                start_prob= output1.start_logits[k][start_index] + output2.start_logits[k][start_index] + output5.start_logits[k][start_index]\n",
        "                end_prob = output1.end_logits[k][end_index]+ output2.end_logits[k][end_index] + output5.end_logits[k][end_index]\n",
        "                \n",
        "                prob = start_prob + end_prob\n",
        "                if prob > max_prob:\n",
        "                    max_prob = prob\n",
        "                    # Convert tokens to chars (e.g. [1920, 7032] --> \"大 金\")\n",
        "                    answer = tokenizer.decode(data[0][0][k][start_index : end_index + 1])\n",
        "    res = answer.replace(' ','')\n",
        "    print(res)\n",
        "    return res"
      ]
    },
    {
      "cell_type": "markdown",
      "metadata": {
        "id": "kMmdLOKBMsdE"
      },
      "source": [
        "## Testing"
      ]
    },
    {
      "cell_type": "code",
      "execution_count": null,
      "metadata": {
        "id": "U5scNKC9xz0C"
      },
      "outputs": [],
      "source": [
        "\n",
        "# print(\"Evaluating Test Set ...\")\n",
        "\n",
        "# result = []\n",
        "\n",
        "# model.eval()\n",
        "# with torch.no_grad():\n",
        "#     for i, data in enumerate(tqdm(test_loader)):\n",
        "#         output = model(input_ids=data[0].squeeze(dim=0).to(device), token_type_ids=data[1].squeeze(dim=0).to(device),\n",
        "#                        attention_mask=data[2].squeeze(dim=0).to(device))\n",
        "#         result.append(evaluate(data, output))\n",
        "\n",
        "# result_file = \"result.csv\"\n",
        "# with open(result_file, 'w') as f:\t\n",
        "# \t  f.write(\"ID,Answer\\n\")\n",
        "# \t  for i, test_question in enumerate(test_questions):\n",
        "#         # Replace commas in answers with empty strings (since csv is separated by comma)\n",
        "#         # Answers in kaggle are processed in the same way\n",
        "# \t\t    f.write(f\"{test_question['id']},{result[i].replace(',','')}\\n\")\n",
        "\n",
        "# print(f\"Completed! Result is in {result_file}\")"
      ]
    }
  ],
  "metadata": {
    "accelerator": "GPU",
    "colab": {
      "collapsed_sections": [],
      "name": "ML2022Spring - HW7.ipynb",
      "provenance": []
    },
    "interpreter": {
      "hash": "ecbd9286bd544f7fe4ef1add3c640987467b2b9ee7c82bb6d3e9831005f6ced4"
    },
    "kernelspec": {
      "display_name": "torch11",
      "language": "python",
      "name": "python3"
    },
    "language_info": {
      "codemirror_mode": {
        "name": "ipython",
        "version": 3
      },
      "file_extension": ".py",
      "mimetype": "text/x-python",
      "name": "python",
      "nbconvert_exporter": "python",
      "pygments_lexer": "ipython3",
      "version": "3.10.2"
    }
  },
  "nbformat": 4,
  "nbformat_minor": 0
}
